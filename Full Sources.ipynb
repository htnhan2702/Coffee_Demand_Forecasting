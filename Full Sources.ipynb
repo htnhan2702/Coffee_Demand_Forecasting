{
 "cells": [
  {
   "cell_type": "code",
   "execution_count": 1,
   "id": "2b4c5063-a434-4555-a3c6-5c319ff96a25",
   "metadata": {},
   "outputs": [],
   "source": [
    "import numpy as np  # mathematical functions\n",
    "import pandas as pd  # data frame manipulation\n",
    "import matplotlib.pyplot as plt  # visualization\n",
    "import seaborn as sns  # visualization"
   ]
  },
  {
   "cell_type": "code",
   "execution_count": 2,
   "id": "9cbf5d43-2474-44d7-83e0-3dcbb87c8def",
   "metadata": {},
   "outputs": [],
   "source": [
    "# Load the data\n",
    "week_es = pd.read_excel('Weekly_Demand.xlsx',sheet_name='ES_Weekly')\n",
    "week_vc = pd.read_excel('Weekly_Demand.xlsx',sheet_name='VC_Weekly')"
   ]
  },
  {
   "cell_type": "markdown",
   "id": "9d70bd22-573b-461c-af23-fd6860390baf",
   "metadata": {},
   "source": [
    "# 1. Splitting"
   ]
  },
  {
   "cell_type": "code",
   "execution_count": 3,
   "id": "a364f521-26c5-426a-8511-7adc459192ee",
   "metadata": {},
   "outputs": [],
   "source": [
    "from sklearn.model_selection import train_test_split\n",
    "\n",
    "# split data into training and testing sets ratio 70:30\n",
    "def split(df): # for other methods\n",
    "    df['DATE'] = df['DATE'].view('int64') // 10**9\n",
    "    X_train, X_test, y_train, y_test = train_test_split(df.drop(columns = ['Weekly Demand']),\n",
    "                                                        df['Weekly Demand'], \n",
    "                                                        train_size=0.7,\n",
    "                                                        random_state=42,\n",
    "                                                        shuffle=False)\n",
    "    return X_train, X_test, y_train, y_test"
   ]
  },
  {
   "cell_type": "markdown",
   "id": "874b8506-df50-4c3f-84e5-a64b5f0cbe80",
   "metadata": {},
   "source": [
    "# 2. Error measures"
   ]
  },
  {
   "cell_type": "code",
   "execution_count": 4,
   "id": "66c32325-f4f1-4c26-854e-1a31362d93b1",
   "metadata": {},
   "outputs": [],
   "source": [
    "def error_measure(y,y_pred,y_pred_benchmark):\n",
    "    # Median Absolute Error (MdAE)\n",
    "    MdAE = np.median(np.abs(y - y_pred))\n",
    "    print(\"MdAE:\",f\"{MdAE:.3f}\") # Round to 3 decimal places\n",
    "    \n",
    "    # Mean Absolute Error (MAE)\n",
    "    MAE = np.mean(np.abs(y - y_pred))\n",
    "    print(\"MAE:\",f\"{MAE:.3f}\") # Round to 3 decimal places\n",
    "    \n",
    "    # Symmetric Median Absolute Percentage Error (sMdAPE)\n",
    "    sMdAPE = np.median(200 * np.abs(y - y_pred) / (np.abs(y) + np.abs(y_pred)))\n",
    "    print(\"sMdAPE:\", f\"{sMdAPE:.3f}\",\"%\") # Round to 3 decimal places\n",
    "    \n",
    "    # Symmetric Mean Absolute Percentage Error (sMAPE)\n",
    "    sMAPE = np.mean(200 * np.abs(y - y_pred) / (np.abs(y) + np.abs(y_pred)))\n",
    "    print(\"sMAPE:\", f\"{sMAPE:.3f}\",\"%\") # Round to 3 decimal places\n",
    "    \n",
    "    # Relative Median Absolute Error (RelMdAE)\n",
    "    MdAE_benchmark = np.median(np.abs(y - y_pred_benchmark))\n",
    "    RelMdAE = MdAE/MdAE_benchmark\n",
    "    print(\"RelMdAE:\", f\"{RelMdAE:.3f}\") # Round to 3 decimal places\n",
    "    \n",
    "    # Relative Mean Absolute Error (RelMAE)\n",
    "    MAE_benchmark = np.mean(np.abs(y - y_pred_benchmark))\n",
    "    RelMAE = MAE/MAE_benchmark\n",
    "    print(\"RelMAE:\", f\"{RelMAE:.3f}\") # Round to 3 decimal places\n",
    "    "
   ]
  },
  {
   "cell_type": "code",
   "execution_count": 5,
   "id": "9e0fcd63-d63c-472a-bb9a-c56b4648be42",
   "metadata": {},
   "outputs": [],
   "source": [
    "def RSS(y,y_pred):\n",
    "    # RSS\n",
    "    RSS = np.sum((y - y_pred)**2)\n",
    "    print(\"Residual :\", f\"{RSS:.3f}\") # Round to 3 decimal places"
   ]
  },
  {
   "cell_type": "code",
   "execution_count": 6,
   "id": "084b6a20-1123-4c2a-ad4e-2b187394547b",
   "metadata": {},
   "outputs": [],
   "source": [
    "def r_squared(y,y_pred,y_train):\n",
    "    # R squares (R2)\n",
    "    R2 = 1 - (np.sum((y - y_pred)**2)/np.sum((y - y_train.mean())**2))\n",
    "    print(\"R-squared:\", f\"{R2:.3f}\") # Round to 3 decimal places"
   ]
  },
  {
   "cell_type": "markdown",
   "id": "759b6721-006a-4424-88c7-480964ac7d01",
   "metadata": {},
   "source": [
    "# 3. Benchmark"
   ]
  },
  {
   "cell_type": "code",
   "execution_count": 7,
   "id": "f9ba466a-5e33-4a62-8ef2-fc9255021875",
   "metadata": {},
   "outputs": [],
   "source": [
    "def mean_model(y_train,y_test):\n",
    "    average = y_train.mean()\n",
    "    \n",
    "    # Generate forecasts in training part\n",
    "    y_pred_train = pd.Series(average, index=y_train.index)\n",
    "    \n",
    "    # Generate forecasts in testing part\n",
    "    y_pred_test = pd.Series(average, index=y_test.index)\n",
    "    return y_pred_train, y_pred_test"
   ]
  },
  {
   "cell_type": "markdown",
   "id": "c43b0d73-60ff-4cf0-bddb-bfe889b0003b",
   "metadata": {},
   "source": [
    "# 4. Visualization"
   ]
  },
  {
   "cell_type": "code",
   "execution_count": 8,
   "id": "af4dd7d3-dcf2-44c6-b692-d19247e01a6d",
   "metadata": {},
   "outputs": [],
   "source": [
    "def viz(y,y_pred):\n",
    "    plt.figure(figsize=(15,7))\n",
    "    # Create chart\n",
    "    plt.plot(y.index, y, label='Actual Demand')\n",
    "    plt.plot(y.index, y_pred, label='Predicted Demand')\n",
    "    # Set x-axis tick locations and labels\n",
    "    plt.xticks(y.index, y.index.astype(int))\n",
    "    # Add baseline\n",
    "    plt.axhline(y=y.mean(), color='red', linestyle='--', label='Baseline')\n",
    "    plt.xlabel('Week')\n",
    "    plt.ylabel('Weekly Demand')\n",
    "    plt.ylim(bottom=0) # Set the starting point of the vertical axis to zero\n",
    "    plt.legend()\n",
    "    plt.show()"
   ]
  },
  {
   "cell_type": "code",
   "execution_count": 9,
   "id": "7990fc3c-257f-4d49-9938-f90a28a76569",
   "metadata": {},
   "outputs": [],
   "source": [
    "def viz_both(X_train,X_test,y_train,y_test,model_train,model_test):\n",
    "    # Plot actual vs predicted demand in the training part\n",
    "    plt.figure(figsize=(20,6))\n",
    "    plt.subplot(121)\n",
    "    plt.plot(X_train.index, y_train, label='Training Demand')\n",
    "    plt.plot(X_test.index, y_test, label='Testing Demand')\n",
    "    plt.plot(X_train.index, model_train, label='Training Predicts')\n",
    "    plt.plot(X_test.index, model_test, label='Testing Predicts')\n",
    "    plt.axhline(y=y_train.mean(), color='red', linestyle='--', label='Baseline')\n",
    "    plt.ylim(bottom=0)\n",
    "    plt.xlabel('Week No.')\n",
    "    plt.ylabel('Weekly Demand (cups)')\n",
    "    plt.title('Actual vs Predicted Demand')\n",
    "    plt.legend()\n",
    "    plt.show()"
   ]
  },
  {
   "cell_type": "markdown",
   "id": "ca97c260-7292-45cd-9683-f00bf0f5d01f",
   "metadata": {},
   "source": [
    "# 5. SES"
   ]
  },
  {
   "cell_type": "code",
   "execution_count": 10,
   "id": "69471bf9-5140-46e4-8f1c-3fe4d7961139",
   "metadata": {},
   "outputs": [],
   "source": [
    "from statsmodels.tsa.holtwinters import SimpleExpSmoothing\n",
    "\n",
    "def SES(y_train, y_test):\n",
    "    # Model fitting\n",
    "    model = SimpleExpSmoothing(y_train,\n",
    "                               initialization_method='heuristic').fit(method='ls')\n",
    "    # print SES parameters\n",
    "    print(model.params)\n",
    "    \n",
    "    # Generate forecasts in training part\n",
    "    y_pred_train = model.predict(start=y_train.index[0], end=y_train.index[-1])\n",
    "    \n",
    "    # Generate forecasts in testing part\n",
    "    y_pred_test = model.predict(start=y_test.index[0], end=y_test.index[-1])\n",
    "    return y_pred_train, y_pred_test"
   ]
  },
  {
   "cell_type": "markdown",
   "id": "7265f7a7-02b1-47b0-af68-e2d31c22886d",
   "metadata": {},
   "source": [
    "# 6. ARIMA"
   ]
  },
  {
   "cell_type": "code",
   "execution_count": 11,
   "id": "70d00ab2-84b8-47fa-9994-0da47a633d3f",
   "metadata": {},
   "outputs": [],
   "source": [
    "from pmdarima.arima import auto_arima\n",
    "\n",
    "def auto_order(df,stationary):\n",
    "    # Find optimal parameters for ARIMA model\n",
    "    model = auto_arima(df['Weekly Demand'],\n",
    "                       stationary=stationary,\n",
    "                       seasonal=\"False\",\n",
    "                       information_criterion=\"aicc\",\n",
    "                       test=\"kpss\")\n",
    "    print(model.order)"
   ]
  },
  {
   "cell_type": "code",
   "execution_count": 12,
   "id": "b5d21d75-4745-47e0-9c00-e9fcaf1caf8a",
   "metadata": {},
   "outputs": [],
   "source": [
    "from statsmodels.tsa.arima.model import ARIMA\n",
    "\n",
    "def ARIMA_model(y_train, y_test,p,d,q,trend):\n",
    "    # Build the ARIMA model\n",
    "    model = ARIMA(y_train,\n",
    "                  order=(p, d, q),\n",
    "                  trend=trend, \n",
    "                  enforce_stationarity = True, \n",
    "                  enforce_invertibility = True).fit()\n",
    "    # print the model summary\n",
    "    print(model.summary())\n",
    "    \n",
    "    # Generate forecasts in training part\n",
    "    y_pred_train = model.predict(start=y_train.index[0], end=y_train.index[-1])\n",
    "    \n",
    "    # Generate forecasts in testing part\n",
    "    y_pred_test = model.predict(start=y_test.index[0], end=y_test.index[-1])\n",
    "    return y_pred_train, y_pred_test"
   ]
  },
  {
   "cell_type": "markdown",
   "id": "ceb4f77b-0c9f-433f-83e8-a0bf071e0fe2",
   "metadata": {},
   "source": [
    "# 7. LS"
   ]
  },
  {
   "cell_type": "code",
   "execution_count": 13,
   "id": "1780787b-d849-4956-97b5-047d4bd961f1",
   "metadata": {},
   "outputs": [],
   "source": [
    "from sklearn.linear_model import LinearRegression\n",
    "\n",
    "def LS(X_train,X_test,y_train, y_test):\n",
    "    # Model fitting\n",
    "    model = LinearRegression(fit_intercept=True,\n",
    "                             copy_X=True,\n",
    "                             positive=False).fit(X_train['DATE'].values.reshape(-1, 1), y_train)\n",
    "    \n",
    "    # Generate forecasts in training part\n",
    "    y_pred_train = model.predict(X_train['DATE'].values.reshape(-1, 1))\n",
    "    \n",
    "    # Generate forecasts in testing part\n",
    "    y_pred_test = model.predict(X_test['DATE'].values.reshape(-1, 1))\n",
    "    return y_pred_train, y_pred_test"
   ]
  },
  {
   "cell_type": "markdown",
   "id": "c45eac11-8e8d-4475-8097-024b3f159382",
   "metadata": {},
   "source": [
    "# 8. MLR"
   ]
  },
  {
   "cell_type": "code",
   "execution_count": 14,
   "id": "270f6c54-0ed7-4b14-9372-da47cfe0929f",
   "metadata": {},
   "outputs": [],
   "source": [
    "from sklearn.linear_model import LinearRegression\n",
    "\n",
    "def MLR(X_train,X_test,y_train, y_test):\n",
    "    # Model fitting\n",
    "    model = LinearRegression(fit_intercept=True,\n",
    "                             copy_X=True,\n",
    "                             positive=False).fit(X_train, y_train)\n",
    "    \n",
    "    # Generate forecasts in training part\n",
    "    y_pred_train = model.predict(X_train)\n",
    "    \n",
    "    # Generate forecasts in testing part\n",
    "    y_pred_test = model.predict(X_test)\n",
    "    return y_pred_train, y_pred_test"
   ]
  },
  {
   "cell_type": "markdown",
   "id": "559f4e5e-c405-46f7-a928-b7a91d0d6334",
   "metadata": {},
   "source": [
    "# 9. DT"
   ]
  },
  {
   "cell_type": "code",
   "execution_count": 15,
   "id": "d58121ae-d7c5-412e-ba7c-26f87854b960",
   "metadata": {},
   "outputs": [],
   "source": [
    "from sklearn.tree import DecisionTreeRegressor\n",
    "\n",
    "def DT(X_train,X_test,y_train, y_test):\n",
    "    # Model fitting\n",
    "    model = DecisionTreeRegressor(criterion='squared_error',\n",
    "                                  splitter='best', \n",
    "                                  max_depth=None,\n",
    "                                  min_samples_split=2,\n",
    "                                  min_samples_leaf=1,\n",
    "                                  max_features=None,\n",
    "                                  random_state=42,\n",
    "                                  max_leaf_nodes=None).fit(X_train, y_train)\n",
    "    \n",
    "    # print the depth of the decision tree.\n",
    "    print(model.get_depth())\n",
    "    # print the number of leaves of the decision tree\n",
    "    print(model.get_n_leaves())\n",
    "    \n",
    "    # Generate forecasts in training part\n",
    "    y_pred_train = model.predict(X_train)\n",
    "    \n",
    "    # Generate forecasts in testing part\n",
    "    y_pred_test = model.predict(X_test)\n",
    "    return model, y_pred_train, y_pred_test"
   ]
  },
  {
   "cell_type": "markdown",
   "id": "af7efdb1-f772-4143-81a2-57c3b083e348",
   "metadata": {},
   "source": [
    "# 10. RF"
   ]
  },
  {
   "cell_type": "code",
   "execution_count": 16,
   "id": "acd6772f-5b0c-41b7-ae25-9f9121f3c232",
   "metadata": {},
   "outputs": [],
   "source": [
    "from sklearn.ensemble import RandomForestRegressor\n",
    "\n",
    "def RF(X_train,X_test,y_train, y_test):\n",
    "    # Model fitting\n",
    "    model = RandomForestRegressor(n_estimators=100,\n",
    "                                  max_depth=None,\n",
    "                                  min_samples_split=2,\n",
    "                                  min_samples_leaf=1,\n",
    "                                  max_features=None,\n",
    "                                  max_leaf_nodes=None,\n",
    "                                  bootstrap=True,\n",
    "                                  random_state=42,\n",
    "                                  max_samples=None).fit(X_train, y_train)\n",
    "    \n",
    "    # Generate forecasts in training part\n",
    "    y_pred_train = model.predict(X_train)\n",
    "    \n",
    "    # Generate forecasts in testing part\n",
    "    y_pred_test = model.predict(X_test)\n",
    "    return model, y_pred_train, y_pred_test"
   ]
  },
  {
   "cell_type": "markdown",
   "id": "28e6c746-f2aa-424b-b766-7cf16da16da4",
   "metadata": {},
   "source": [
    "# 11. OLS Analysis"
   ]
  },
  {
   "cell_type": "code",
   "execution_count": 17,
   "id": "03ad7398-ada4-4f0a-b995-ff75063df601",
   "metadata": {},
   "outputs": [],
   "source": [
    "import statsmodels.api as sm\n",
    "\n",
    "def OLS_analysis(X_train,y_train):\n",
    "    X_train = sm.add_constant(X_train)\n",
    "    # Fit model\n",
    "    model_stat = sm.OLS(y_train, X_train).fit()\n",
    "    print(model_stat.summary())"
   ]
  },
  {
   "cell_type": "markdown",
   "id": "d21c985a-379c-4ff9-89e9-e4b08a3ec1de",
   "metadata": {},
   "source": [
    "# Process"
   ]
  },
  {
   "cell_type": "markdown",
   "id": "82557bc4-144b-4cb8-a3cf-d37a513ee968",
   "metadata": {},
   "source": [
    "## 1. Splitting"
   ]
  },
  {
   "cell_type": "code",
   "execution_count": 18,
   "id": "fa47bc0a-2b62-4bfa-bed3-0dcfa2cd4980",
   "metadata": {},
   "outputs": [],
   "source": [
    "# ES\n",
    "es_X_train, es_X_test, es_y_train, es_y_test = split(week_es)\n",
    "# VC\n",
    "vc_X_train, vc_X_test, vc_y_train, vc_y_test = split(week_vc)"
   ]
  },
  {
   "cell_type": "markdown",
   "id": "96389685-9536-4c83-a983-b2d315706ffb",
   "metadata": {},
   "source": [
    "## 2. Benchmark"
   ]
  },
  {
   "cell_type": "code",
   "execution_count": 19,
   "id": "292484e9-a9d6-4202-9760-9fe25d4e4779",
   "metadata": {},
   "outputs": [],
   "source": [
    "# ES\n",
    "es_bm_train, es_bm_test = mean_model(es_y_train, es_y_test)\n",
    "# VC\n",
    "vc_bm_train, vc_bm_test = mean_model(vc_y_train, vc_y_test)"
   ]
  },
  {
   "cell_type": "code",
   "execution_count": 20,
   "id": "dcc16c13-ac16-40d6-897c-4e99c3c1fcbe",
   "metadata": {},
   "outputs": [
    {
     "name": "stdout",
     "output_type": "stream",
     "text": [
      "------- ES Train Bm\n",
      "MdAE: 44.622\n",
      "MAE: 56.230\n",
      "sMdAPE: 19.569 %\n",
      "sMAPE: 25.825 %\n",
      "RelMdAE: 1.000\n",
      "RelMAE: 1.000\n",
      "\n",
      "------- ES Test Bm\n",
      "MdAE: 88.622\n",
      "MAE: 87.286\n",
      "sMdAPE: 33.116 %\n",
      "sMAPE: 31.849 %\n",
      "RelMdAE: 1.000\n",
      "RelMAE: 1.000\n",
      "\n",
      "------- VC Train Bm\n",
      "MdAE: 19.533\n",
      "MAE: 29.434\n",
      "sMdAPE: 8.540 %\n",
      "sMAPE: 13.727 %\n",
      "RelMdAE: 1.000\n",
      "RelMAE: 1.000\n",
      "\n",
      "------- VC Test Bm\n",
      "MdAE: 41.500\n",
      "MAE: 47.897\n",
      "sMdAPE: 17.958 %\n",
      "sMAPE: 24.730 %\n",
      "RelMdAE: 1.000\n",
      "RelMAE: 1.000\n"
     ]
    }
   ],
   "source": [
    "print('------- ES Train Bm')\n",
    "error_measure(es_y_train,es_bm_train,es_bm_train)\n",
    "print('\\n------- ES Test Bm')\n",
    "error_measure(es_y_test,es_bm_test,es_bm_test)\n",
    "print('\\n------- VC Train Bm')\n",
    "error_measure(vc_y_train,vc_bm_train,vc_bm_train)\n",
    "print('\\n------- VC Test Bm')\n",
    "error_measure(vc_y_test,vc_bm_test,vc_bm_test)"
   ]
  },
  {
   "cell_type": "markdown",
   "id": "a12ee6f8-7598-407e-b366-938bd0226c9d",
   "metadata": {},
   "source": [
    "## 3. SES"
   ]
  },
  {
   "cell_type": "code",
   "execution_count": 21,
   "id": "3c10f227-aa16-4b5f-94a2-d8fb5acc0ca4",
   "metadata": {},
   "outputs": [
    {
     "name": "stdout",
     "output_type": "stream",
     "text": [
      "{'smoothing_level': 0.3883855276739101, 'smoothing_trend': nan, 'smoothing_seasonal': nan, 'damping_trend': nan, 'initial_level': 119.52932835996563, 'initial_trend': nan, 'initial_seasons': array([], dtype=float64), 'use_boxcox': False, 'lamda': None, 'remove_bias': False}\n",
      "{'smoothing_level': 0.18858432034333222, 'smoothing_trend': nan, 'smoothing_seasonal': nan, 'damping_trend': nan, 'initial_level': 250.2119637946554, 'initial_trend': nan, 'initial_seasons': array([], dtype=float64), 'use_boxcox': False, 'lamda': None, 'remove_bias': False}\n"
     ]
    }
   ],
   "source": [
    "# ES\n",
    "es_ses_train, es_ses_test = SES(es_y_train, es_y_test)\n",
    "# VC\n",
    "vc_ses_train, vc_ses_test = SES(vc_y_train, vc_y_test)"
   ]
  },
  {
   "cell_type": "code",
   "execution_count": 22,
   "id": "fb5fcf2f-8602-4b61-8d2c-b891107ae70b",
   "metadata": {},
   "outputs": [
    {
     "name": "stdout",
     "output_type": "stream",
     "text": [
      "------- ES Train SES\n",
      "MdAE: 30.487\n",
      "MAE: 36.941\n",
      "sMdAPE: 13.175 %\n",
      "sMAPE: 16.806 %\n",
      "RelMdAE: 0.683\n",
      "RelMAE: 0.657\n",
      "\n",
      "------- ES Test SES\n",
      "MdAE: 36.500\n",
      "MAE: 51.261\n",
      "sMdAPE: 11.681 %\n",
      "sMAPE: 18.233 %\n",
      "RelMdAE: 0.412\n",
      "RelMAE: 0.587\n",
      "\n",
      "------- VC Train SES\n",
      "MdAE: 26.681\n",
      "MAE: 30.807\n",
      "sMdAPE: 11.518 %\n",
      "sMAPE: 14.272 %\n",
      "RelMdAE: 1.366\n",
      "RelMAE: 1.047\n",
      "\n",
      "------- VC Test SES\n",
      "MdAE: 35.123\n",
      "MAE: 47.312\n",
      "sMdAPE: 15.864 %\n",
      "sMAPE: 24.649 %\n",
      "RelMdAE: 0.846\n",
      "RelMAE: 0.988\n"
     ]
    }
   ],
   "source": [
    "print('------- ES Train SES')\n",
    "error_measure(es_y_train,es_ses_train,es_bm_train)\n",
    "print('\\n------- ES Test SES')\n",
    "error_measure(es_y_test,es_ses_test,es_bm_test)\n",
    "print('\\n------- VC Train SES')\n",
    "error_measure(vc_y_train,vc_ses_train,vc_bm_train)\n",
    "print('\\n------- VC Test SES')\n",
    "error_measure(vc_y_test,vc_ses_test,vc_bm_test)"
   ]
  },
  {
   "cell_type": "markdown",
   "id": "bbabc323-1191-41f1-86d6-79e57dcea56a",
   "metadata": {},
   "source": [
    "## 4. ARIMA"
   ]
  },
  {
   "cell_type": "markdown",
   "id": "e2fb2ec6-c34f-4e64-b493-01be72bbf51e",
   "metadata": {},
   "source": [
    "### 4.1. Origin"
   ]
  },
  {
   "cell_type": "code",
   "execution_count": 23,
   "id": "e6ccc0e8-a56c-4364-9b7f-9bfd7c53e002",
   "metadata": {},
   "outputs": [
    {
     "name": "stdout",
     "output_type": "stream",
     "text": [
      "(1, 0, 2)\n",
      "(1, 0, 0)\n"
     ]
    }
   ],
   "source": [
    "# ES order (p,d,q)\n",
    "auto_order(week_es,\"False\")\n",
    "# VC order (p,d,q)\n",
    "auto_order(week_vc,\"True\")"
   ]
  },
  {
   "cell_type": "code",
   "execution_count": 24,
   "id": "ce42e7e1-4efb-4b9c-a598-e0033fd27f2a",
   "metadata": {},
   "outputs": [
    {
     "name": "stdout",
     "output_type": "stream",
     "text": [
      "                               SARIMAX Results                                \n",
      "==============================================================================\n",
      "Dep. Variable:          Weekly Demand   No. Observations:                   45\n",
      "Model:                 ARIMA(1, 0, 2)   Log Likelihood                -229.388\n",
      "Date:                Wed, 07 Jun 2023   AIC                            470.777\n",
      "Time:                        13:14:07   BIC                            481.617\n",
      "Sample:                             0   HQIC                           474.818\n",
      "                                 - 45                                         \n",
      "Covariance Type:                  opg                                         \n",
      "==============================================================================\n",
      "                 coef    std err          z      P>|z|      [0.025      0.975]\n",
      "------------------------------------------------------------------------------\n",
      "const        132.6370     17.723      7.484      0.000      97.901     167.373\n",
      "x1             4.3953      0.702      6.263      0.000       3.020       5.771\n",
      "ar.L1          0.0829      1.523      0.054      0.957      -2.902       3.068\n",
      "ma.L1          0.2870      1.569      0.183      0.855      -2.789       3.363\n",
      "ma.L2         -0.1501      0.599     -0.250      0.802      -1.325       1.025\n",
      "sigma2      1559.7784    425.151      3.669      0.000     726.497    2393.060\n",
      "===================================================================================\n",
      "Ljung-Box (L1) (Q):                   0.00   Jarque-Bera (JB):                 1.55\n",
      "Prob(Q):                              0.95   Prob(JB):                         0.46\n",
      "Heteroskedasticity (H):               0.63   Skew:                             0.35\n",
      "Prob(H) (two-sided):                  0.38   Kurtosis:                         3.57\n",
      "===================================================================================\n",
      "\n",
      "Warnings:\n",
      "[1] Covariance matrix calculated using the outer product of gradients (complex-step).\n",
      "                               SARIMAX Results                                \n",
      "==============================================================================\n",
      "Dep. Variable:          Weekly Demand   No. Observations:                   45\n",
      "Model:                 ARIMA(1, 0, 0)   Log Likelihood                -229.679\n",
      "Date:                Wed, 07 Jun 2023   AIC                            467.359\n",
      "Time:                        13:14:07   BIC                            474.585\n",
      "Sample:                             0   HQIC                           470.053\n",
      "                                 - 45                                         \n",
      "Covariance Type:                  opg                                         \n",
      "==============================================================================\n",
      "                 coef    std err          z      P>|z|      [0.025      0.975]\n",
      "------------------------------------------------------------------------------\n",
      "const        241.8623     17.221     14.044      0.000     208.109     275.616\n",
      "x1            -0.7177      0.721     -0.996      0.319      -2.130       0.694\n",
      "ar.L1          0.2296      0.165      1.395      0.163      -0.093       0.552\n",
      "sigma2      1585.9140    240.075      6.606      0.000    1115.375    2056.453\n",
      "===================================================================================\n",
      "Ljung-Box (L1) (Q):                   0.01   Jarque-Bera (JB):                42.89\n",
      "Prob(Q):                              0.93   Prob(JB):                         0.00\n",
      "Heteroskedasticity (H):               0.41   Skew:                            -1.21\n",
      "Prob(H) (two-sided):                  0.10   Kurtosis:                         7.13\n",
      "===================================================================================\n",
      "\n",
      "Warnings:\n",
      "[1] Covariance matrix calculated using the outer product of gradients (complex-step).\n"
     ]
    }
   ],
   "source": [
    "# ES\n",
    "es_arima_train, es_arima_test = ARIMA_model(es_y_train, es_y_test, 1, 0, 2,'ct')\n",
    "# VC\n",
    "vc_arima_train, vc_arima_test = ARIMA_model(vc_y_train, vc_y_test, 1, 0, 0,'ct')"
   ]
  },
  {
   "cell_type": "code",
   "execution_count": 25,
   "id": "4470d654-cd0f-4e82-b871-10542f4a695d",
   "metadata": {},
   "outputs": [
    {
     "name": "stdout",
     "output_type": "stream",
     "text": [
      "------- ES Train ARIMA\n",
      "MdAE: 25.739\n",
      "MAE: 31.079\n",
      "sMdAPE: 9.985 %\n",
      "sMAPE: 14.626 %\n",
      "RelMdAE: 0.577\n",
      "RelMAE: 0.553\n",
      "\n",
      "------- ES Test ARIMA\n",
      "MdAE: 43.589\n",
      "MAE: 80.937\n",
      "sMdAPE: 12.679 %\n",
      "sMAPE: 25.603 %\n",
      "RelMdAE: 0.492\n",
      "RelMAE: 0.927\n",
      "\n",
      "------- VC Train ARIMA\n",
      "MdAE: 19.135\n",
      "MAE: 28.779\n",
      "sMdAPE: 9.149 %\n",
      "sMAPE: 13.477 %\n",
      "RelMdAE: 0.980\n",
      "RelMAE: 0.978\n",
      "\n",
      "------- VC Test ARIMA\n",
      "MdAE: 39.847\n",
      "MAE: 46.859\n",
      "sMdAPE: 18.641 %\n",
      "sMAPE: 24.552 %\n",
      "RelMdAE: 0.960\n",
      "RelMAE: 0.978\n"
     ]
    }
   ],
   "source": [
    "print('------- ES Train ARIMA')\n",
    "error_measure(es_y_train,es_arima_train,es_bm_train)\n",
    "print('\\n------- ES Test ARIMA')\n",
    "error_measure(es_y_test,es_arima_test,es_bm_test)\n",
    "print('\\n------- VC Train ARIMA')\n",
    "error_measure(vc_y_train,vc_arima_train,vc_bm_train)\n",
    "print('\\n------- VC Test ARIMA')\n",
    "error_measure(vc_y_test,vc_arima_test,vc_bm_test)"
   ]
  },
  {
   "cell_type": "markdown",
   "id": "35f2fc9c-4fa5-4334-9cce-2aadb8c70bb8",
   "metadata": {},
   "source": [
    "### 4.2. Improvement"
   ]
  },
  {
   "cell_type": "code",
   "execution_count": 26,
   "id": "35887593-1295-4c34-ac74-4ba52dc5e697",
   "metadata": {},
   "outputs": [
    {
     "name": "stdout",
     "output_type": "stream",
     "text": [
      "                               SARIMAX Results                                \n",
      "==============================================================================\n",
      "Dep. Variable:          Weekly Demand   No. Observations:                   45\n",
      "Model:                 ARIMA(1, 1, 2)   Log Likelihood                -229.986\n",
      "Date:                Wed, 07 Jun 2023   AIC                            467.972\n",
      "Time:                        13:14:07   BIC                            475.109\n",
      "Sample:                             0   HQIC                           470.619\n",
      "                                 - 45                                         \n",
      "Covariance Type:                  opg                                         \n",
      "==============================================================================\n",
      "                 coef    std err          z      P>|z|      [0.025      0.975]\n",
      "------------------------------------------------------------------------------\n",
      "ar.L1         -0.3128      0.489     -0.640      0.522      -1.270       0.645\n",
      "ma.L1         -0.0703      0.502     -0.140      0.889      -1.053       0.913\n",
      "ma.L2         -0.4338      0.285     -1.525      0.127      -0.992       0.124\n",
      "sigma2      2007.8836    488.654      4.109      0.000    1050.140    2965.628\n",
      "===================================================================================\n",
      "Ljung-Box (L1) (Q):                   0.47   Jarque-Bera (JB):                 0.10\n",
      "Prob(Q):                              0.50   Prob(JB):                         0.95\n",
      "Heteroskedasticity (H):               0.76   Skew:                             0.08\n",
      "Prob(H) (two-sided):                  0.59   Kurtosis:                         3.18\n",
      "===================================================================================\n",
      "\n",
      "Warnings:\n",
      "[1] Covariance matrix calculated using the outer product of gradients (complex-step).\n",
      "------- ES Train ARIMA\n",
      "MdAE: 30.218\n",
      "MAE: 37.495\n",
      "sMdAPE: 13.049 %\n",
      "sMAPE: 20.423 %\n",
      "RelMdAE: 0.677\n",
      "RelMAE: 0.667\n",
      "\n",
      "------- ES Test ARIMA\n",
      "MdAE: 36.500\n",
      "MAE: 49.309\n",
      "sMdAPE: 11.682 %\n",
      "sMAPE: 17.592 %\n",
      "RelMdAE: 0.412\n",
      "RelMAE: 0.565\n"
     ]
    }
   ],
   "source": [
    "# ES\n",
    "es_arima_train1, es_arima_test1 = ARIMA_model(es_y_train, es_y_test, 1, 1, 2, 'n')\n",
    "\n",
    "print('------- ES Train ARIMA')\n",
    "error_measure(es_y_train,es_arima_train1,es_bm_train)\n",
    "print('\\n------- ES Test ARIMA')\n",
    "error_measure(es_y_test,es_arima_test1,es_bm_test)"
   ]
  },
  {
   "cell_type": "markdown",
   "id": "ae2ddd5c-0581-41e1-bbd7-dc4aabc1add0",
   "metadata": {},
   "source": [
    "## 5. LS"
   ]
  },
  {
   "cell_type": "code",
   "execution_count": 27,
   "id": "45732865-6417-4a9f-8b57-6f1df315aa88",
   "metadata": {},
   "outputs": [],
   "source": [
    "# ES\n",
    "es_ls_train, es_ls_test = LS(es_X_train, es_X_test, es_y_train, es_y_test)\n",
    "# VC\n",
    "vc_ls_train, vc_ls_test = LS(vc_X_train, vc_X_test, vc_y_train, vc_y_test)"
   ]
  },
  {
   "cell_type": "code",
   "execution_count": 28,
   "id": "15c0155d-ba99-480b-b8ba-78411f2544b0",
   "metadata": {},
   "outputs": [
    {
     "name": "stdout",
     "output_type": "stream",
     "text": [
      "                            OLS Regression Results                            \n",
      "==============================================================================\n",
      "Dep. Variable:          Weekly Demand   R-squared:                       0.638\n",
      "Model:                            OLS   Adj. R-squared:                  0.629\n",
      "Method:                 Least Squares   F-statistic:                     75.70\n",
      "Date:                Wed, 07 Jun 2023   Prob (F-statistic):           4.95e-11\n",
      "Time:                        13:14:07   Log-Likelihood:                -232.54\n",
      "No. Observations:                  45   AIC:                             469.1\n",
      "Df Residuals:                      43   BIC:                             472.7\n",
      "Df Model:                           1                                         \n",
      "Covariance Type:            nonrobust                                         \n",
      "==============================================================================\n",
      "                 coef    std err          t      P>|t|      [0.025      0.975]\n",
      "------------------------------------------------------------------------------\n",
      "const       -1.16e+04   1360.024     -8.529      0.000   -1.43e+04   -8856.384\n",
      "DATE        7.173e-06   8.24e-07      8.700      0.000    5.51e-06    8.84e-06\n",
      "==============================================================================\n",
      "Omnibus:                        1.062   Durbin-Watson:                   1.436\n",
      "Prob(Omnibus):                  0.588   Jarque-Bera (JB):                0.901\n",
      "Skew:                           0.051   Prob(JB):                        0.637\n",
      "Kurtosis:                       2.314   Cond. No.                     3.46e+11\n",
      "==============================================================================\n",
      "\n",
      "Notes:\n",
      "[1] Standard Errors assume that the covariance matrix of the errors is correctly specified.\n",
      "[2] The condition number is large, 3.46e+11. This might indicate that there are\n",
      "strong multicollinearity or other numerical problems.\n",
      "                            OLS Regression Results                            \n",
      "==============================================================================\n",
      "Dep. Variable:          Weekly Demand   R-squared:                       0.053\n",
      "Model:                            OLS   Adj. R-squared:                  0.031\n",
      "Method:                 Least Squares   F-statistic:                     2.398\n",
      "Date:                Wed, 07 Jun 2023   Prob (F-statistic):              0.129\n",
      "Time:                        13:14:07   Log-Likelihood:                -230.91\n",
      "No. Observations:                  45   AIC:                             465.8\n",
      "Df Residuals:                      43   BIC:                             469.4\n",
      "Df Model:                           1                                         \n",
      "Covariance Type:            nonrobust                                         \n",
      "==============================================================================\n",
      "                 coef    std err          t      P>|t|      [0.025      0.975]\n",
      "------------------------------------------------------------------------------\n",
      "const       2256.8440   1311.678      1.721      0.093    -388.408    4902.096\n",
      "DATE       -1.231e-06   7.95e-07     -1.549      0.129   -2.84e-06    3.72e-07\n",
      "==============================================================================\n",
      "Omnibus:                       20.752   Durbin-Watson:                   1.527\n",
      "Prob(Omnibus):                  0.000   Jarque-Bera (JB):               46.790\n",
      "Skew:                          -1.141   Prob(JB):                     6.91e-11\n",
      "Kurtosis:                       7.444   Cond. No.                     3.46e+11\n",
      "==============================================================================\n",
      "\n",
      "Notes:\n",
      "[1] Standard Errors assume that the covariance matrix of the errors is correctly specified.\n",
      "[2] The condition number is large, 3.46e+11. This might indicate that there are\n",
      "strong multicollinearity or other numerical problems.\n"
     ]
    }
   ],
   "source": [
    "# ES\n",
    "OLS_analysis(es_X_train['DATE'],es_y_train)\n",
    "# VC\n",
    "OLS_analysis(vc_X_train['DATE'],vc_y_train)"
   ]
  },
  {
   "cell_type": "code",
   "execution_count": 29,
   "id": "9caca8c9-7bbe-46c4-82d1-42db6f7800e3",
   "metadata": {},
   "outputs": [
    {
     "name": "stdout",
     "output_type": "stream",
     "text": [
      "------- ES Train LS\n",
      "MdAE: 29.746\n",
      "MAE: 35.226\n",
      "sMdAPE: 11.284 %\n",
      "sMAPE: 16.609 %\n",
      "RelMdAE: 0.667\n",
      "RelMAE: 0.626\n",
      "R-squared: 0.638\n",
      "\n",
      "------- ES Test LS\n",
      "MdAE: 48.353\n",
      "MAE: 80.385\n",
      "sMdAPE: 13.687 %\n",
      "sMAPE: 25.514 %\n",
      "RelMdAE: 0.546\n",
      "RelMAE: 0.921\n",
      "R-squared: -0.381\n",
      "\n",
      "------- VC Train LS\n",
      "MdAE: 19.195\n",
      "MAE: 28.352\n",
      "sMdAPE: 8.631 %\n",
      "sMAPE: 13.243 %\n",
      "RelMdAE: 0.983\n",
      "RelMAE: 0.963\n",
      "R-squared: 0.053\n",
      "\n",
      "------- VC Test LS\n",
      "MdAE: 39.766\n",
      "MAE: 46.887\n",
      "sMdAPE: 19.011 %\n",
      "sMAPE: 24.572 %\n",
      "RelMdAE: 0.958\n",
      "RelMAE: 0.979\n",
      "R-squared: 0.069\n"
     ]
    }
   ],
   "source": [
    "print('------- ES Train LS')\n",
    "error_measure(es_y_train,es_ls_train,es_bm_train)\n",
    "r_squared(es_y_train,es_ls_train,es_y_train)\n",
    "print('\\n------- ES Test LS')\n",
    "error_measure(es_y_test,es_ls_test,es_bm_test)\n",
    "r_squared(es_y_test,es_ls_test,es_y_train)\n",
    "print('\\n------- VC Train LS')\n",
    "error_measure(vc_y_train,vc_ls_train,vc_bm_train)\n",
    "r_squared(vc_y_train,vc_ls_train,vc_y_train)\n",
    "print('\\n------- VC Test LS')\n",
    "error_measure(vc_y_test,vc_ls_test,vc_bm_test)\n",
    "r_squared(vc_y_test,vc_ls_test,vc_y_train)"
   ]
  },
  {
   "cell_type": "markdown",
   "id": "754c793c-f950-49fa-9819-53fd82fc79fa",
   "metadata": {},
   "source": [
    "## 6. MLR"
   ]
  },
  {
   "cell_type": "markdown",
   "id": "a753f468-9aad-46b1-b7a3-b5db1cb25201",
   "metadata": {},
   "source": [
    "### 6.1. Origin"
   ]
  },
  {
   "cell_type": "code",
   "execution_count": 30,
   "id": "cc9eed27-d029-4733-9e0d-a4328a3aa51b",
   "metadata": {},
   "outputs": [],
   "source": [
    "# ES\n",
    "es_mlr_train, es_mlr_test = MLR(es_X_train, es_X_test, es_y_train, es_y_test)\n",
    "# VC\n",
    "vc_mlr_train, vc_mlr_test = MLR(vc_X_train, vc_X_test, vc_y_train, vc_y_test)"
   ]
  },
  {
   "cell_type": "code",
   "execution_count": 31,
   "id": "9cd0505f-077d-4802-9920-9a2b0f9ef32e",
   "metadata": {},
   "outputs": [
    {
     "name": "stdout",
     "output_type": "stream",
     "text": [
      "<class 'pandas.core.frame.DataFrame'>\n",
      "RangeIndex: 65 entries, 0 to 64\n",
      "Data columns (total 22 columns):\n",
      " #   Column                        Non-Null Count  Dtype\n",
      "---  ------                        --------------  -----\n",
      " 0   DATE                          65 non-null     int64\n",
      " 1   Weekly Demand                 65 non-null     int64\n",
      " 2   Discount                      65 non-null     int64\n",
      " 3   Glossary_Americano (L)        65 non-null     int64\n",
      " 4   Glossary_Americano (R)        65 non-null     int64\n",
      " 5   Glossary_Cappuccino (L)       65 non-null     int64\n",
      " 6   Glossary_Cappuccino (R)       65 non-null     int64\n",
      " 7   Glossary_Espresso (L)         65 non-null     int64\n",
      " 8   Glossary_Espresso (XL)        65 non-null     int64\n",
      " 9   Glossary_Hot Americano (XL)   65 non-null     int64\n",
      " 10  Glossary_Hot Cappuccino (XL)  65 non-null     int64\n",
      " 11  Glossary_Hot Latte (L)        65 non-null     int64\n",
      " 12  Glossary_Hot Latte (XL)       65 non-null     int64\n",
      " 13  Glossary_Latte (L)            65 non-null     int64\n",
      " 14  Glossary_Latte (R)            65 non-null     int64\n",
      " 15  Glossary_Macchiato (L)        65 non-null     int64\n",
      " 16  Glossary_Macchiato (R)        65 non-null     int64\n",
      " 17  Payment_BANKING               65 non-null     int64\n",
      " 18  Payment_DEBIT                 65 non-null     int64\n",
      " 19  Payment_GRAB                  65 non-null     int64\n",
      " 20  Payment_MIX                   65 non-null     int64\n",
      " 21  Payment_MOMO                  65 non-null     int64\n",
      "dtypes: int64(22)\n",
      "memory usage: 11.3 KB\n"
     ]
    }
   ],
   "source": [
    "week_es.info()"
   ]
  },
  {
   "cell_type": "code",
   "execution_count": 32,
   "id": "a78d2e0d-3576-49bd-b6a8-838379d8a3a3",
   "metadata": {},
   "outputs": [
    {
     "name": "stdout",
     "output_type": "stream",
     "text": [
      "                            OLS Regression Results                            \n",
      "==============================================================================\n",
      "Dep. Variable:          Weekly Demand   R-squared:                       0.846\n",
      "Model:                            OLS   Adj. R-squared:                  0.705\n",
      "Method:                 Least Squares   F-statistic:                     6.007\n",
      "Date:                Wed, 07 Jun 2023   Prob (F-statistic):           3.57e-05\n",
      "Time:                        13:14:07   Log-Likelihood:                -213.33\n",
      "No. Observations:                  45   AIC:                             470.7\n",
      "Df Residuals:                      23   BIC:                             510.4\n",
      "Df Model:                          21                                         \n",
      "Covariance Type:            nonrobust                                         \n",
      "================================================================================================\n",
      "                                   coef    std err          t      P>|t|      [0.025      0.975]\n",
      "------------------------------------------------------------------------------------------------\n",
      "const                        -1.932e+04   6465.353     -2.988      0.007   -3.27e+04   -5945.614\n",
      "DATE                           1.19e-05   3.94e-06      3.022      0.006    3.75e-06       2e-05\n",
      "Discount                        -1.4043      2.487     -0.565      0.578      -6.548       3.740\n",
      "Glossary_Americano (L)           1.1989      1.940      0.618      0.543      -2.814       5.211\n",
      "Glossary_Americano (R)          -1.0627      1.533     -0.693      0.495      -4.234       2.108\n",
      "Glossary_Cappuccino (L)         -0.8115      1.586     -0.512      0.614      -4.093       2.470\n",
      "Glossary_Cappuccino (R)         -0.1078      3.259     -0.033      0.974      -6.850       6.634\n",
      "Glossary_Espresso (L)            0.1498      0.269      0.558      0.582      -0.406       0.705\n",
      "Glossary_Espresso (XL)           0.1423      5.323      0.027      0.979     -10.869      11.154\n",
      "Glossary_Hot Americano (XL)      3.4806      4.068      0.856      0.401      -4.935      11.896\n",
      "Glossary_Hot Cappuccino (XL)    -6.0078      3.161     -1.900      0.070     -12.548       0.532\n",
      "Glossary_Hot Latte (L)           4.3097      2.056      2.096      0.047       0.057       8.562\n",
      "Glossary_Hot Latte (XL)          2.2624      1.983      1.141      0.266      -1.839       6.364\n",
      "Glossary_Latte (L)              -1.9277      1.390     -1.387      0.179      -4.803       0.947\n",
      "Glossary_Latte (R)              -2.8653      1.458     -1.965      0.062      -5.881       0.151\n",
      "Glossary_Macchiato (L)          10.3939     20.858      0.498      0.623     -32.753      53.541\n",
      "Glossary_Macchiato (R)         -14.7334      4.246     -3.470      0.002     -23.516      -5.951\n",
      "Payment_BANKING               -164.9451     79.088     -2.086      0.048    -328.551      -1.339\n",
      "Payment_DEBIT                    1.3361     16.193      0.083      0.935     -32.163      34.835\n",
      "Payment_GRAB                    -3.1641      2.270     -1.394      0.177      -7.861       1.533\n",
      "Payment_MIX                      3.7043      4.290      0.864      0.397      -5.170      12.578\n",
      "Payment_MOMO                    -1.5567      2.160     -0.721      0.478      -6.025       2.911\n",
      "==============================================================================\n",
      "Omnibus:                        0.840   Durbin-Watson:                   2.115\n",
      "Prob(Omnibus):                  0.657   Jarque-Bera (JB):                0.922\n",
      "Skew:                          -0.261   Prob(JB):                        0.631\n",
      "Kurtosis:                       2.531   Cond. No.                     1.85e+12\n",
      "==============================================================================\n",
      "\n",
      "Notes:\n",
      "[1] Standard Errors assume that the covariance matrix of the errors is correctly specified.\n",
      "[2] The condition number is large, 1.85e+12. This might indicate that there are\n",
      "strong multicollinearity or other numerical problems.\n",
      "                            OLS Regression Results                            \n",
      "==============================================================================\n",
      "Dep. Variable:          Weekly Demand   R-squared:                       0.150\n",
      "Model:                            OLS   Adj. R-squared:                 -0.207\n",
      "Method:                 Least Squares   F-statistic:                    0.4195\n",
      "Date:                Wed, 07 Jun 2023   Prob (F-statistic):              0.951\n",
      "Time:                        13:14:07   Log-Likelihood:                -228.49\n",
      "No. Observations:                  45   AIC:                             485.0\n",
      "Df Residuals:                      31   BIC:                             510.3\n",
      "Df Model:                          13                                         \n",
      "Covariance Type:            nonrobust                                         \n",
      "===============================================================================================\n",
      "                                  coef    std err          t      P>|t|      [0.025      0.975]\n",
      "-----------------------------------------------------------------------------------------------\n",
      "const                        2892.2671   4705.347      0.615      0.543   -6704.351    1.25e+04\n",
      "DATE                        -1.615e-06   2.87e-06     -0.563      0.577   -7.46e-06    4.23e-06\n",
      "Discount                        0.8514      1.297      0.656      0.517      -1.795       3.497\n",
      "Glossary_Bac Siu (L)            0.0202      1.193      0.017      0.987      -2.413       2.453\n",
      "Glossary_Bac Siu (R)            0.6087      0.997      0.611      0.546      -1.424       2.641\n",
      "Glossary_PJs Bac Siu Bottle     1.0333      3.990      0.259      0.797      -7.103       9.170\n",
      "Glossary_PJs Sua Da Bottle     -0.6010      3.127     -0.192      0.849      -6.978       5.776\n",
      "Glossary_VN Coffee Den (L)  -2.784e-10   4.53e-10     -0.615      0.543    -1.2e-09    6.45e-10\n",
      "Glossary_VN Coffee Den (R)     -0.0355      0.643     -0.055      0.956      -1.348       1.277\n",
      "Glossary_VN Milk Coffee (R)     0.0763      0.496      0.154      0.879      -0.934       1.087\n",
      "Payment_BANKING                -4.0767     22.104     -0.184      0.855     -49.158      41.005\n",
      "Payment_DEBIT                  10.9922     19.631      0.560      0.580     -29.045      51.030\n",
      "Payment_GRAB                   -2.9760      9.951     -0.299      0.767     -23.271      17.319\n",
      "Payment_MIX                    -2.7241      3.777     -0.721      0.476     -10.428       4.980\n",
      "Payment_MOMO                   -1.9774      1.800     -1.099      0.280      -5.648       1.693\n",
      "==============================================================================\n",
      "Omnibus:                       15.546   Durbin-Watson:                   1.610\n",
      "Prob(Omnibus):                  0.000   Jarque-Bera (JB):               29.025\n",
      "Skew:                          -0.881   Prob(JB):                     4.98e-07\n",
      "Kurtosis:                       6.518   Cond. No.                     7.62e+24\n",
      "==============================================================================\n",
      "\n",
      "Notes:\n",
      "[1] Standard Errors assume that the covariance matrix of the errors is correctly specified.\n",
      "[2] The smallest eigenvalue is 2.11e-30. This might indicate that there are\n",
      "strong multicollinearity problems or that the design matrix is singular.\n"
     ]
    }
   ],
   "source": [
    "# ES\n",
    "OLS_analysis(es_X_train,es_y_train)\n",
    "# VC\n",
    "OLS_analysis(vc_X_train,vc_y_train)"
   ]
  },
  {
   "cell_type": "code",
   "execution_count": 33,
   "id": "b9296e71-f546-45de-83a2-d9dbd2dbcaa1",
   "metadata": {},
   "outputs": [
    {
     "name": "stdout",
     "output_type": "stream",
     "text": [
      "------- ES Train MLR\n",
      "MdAE: 24.952\n",
      "MAE: 22.831\n",
      "sMdAPE: 9.010 %\n",
      "sMAPE: 10.251 %\n",
      "RelMdAE: 0.559\n",
      "RelMAE: 0.406\n",
      "R-squared: 0.846\n",
      "\n",
      "------- ES Test MLR\n",
      "MdAE: 102.551\n",
      "MAE: 165.376\n",
      "sMdAPE: 27.630 %\n",
      "sMAPE: 43.101 %\n",
      "RelMdAE: 1.157\n",
      "RelMAE: 1.895\n",
      "R-squared: -3.822\n",
      "\n",
      "------- VC Train MLR\n",
      "MdAE: 19.080\n",
      "MAE: 27.807\n",
      "sMdAPE: 8.323 %\n",
      "sMAPE: 13.106 %\n",
      "RelMdAE: 0.977\n",
      "RelMAE: 0.945\n",
      "R-squared: 0.150\n",
      "\n",
      "------- VC Test MLR\n",
      "MdAE: 41.665\n",
      "MAE: 45.495\n",
      "sMdAPE: 19.166 %\n",
      "sMAPE: 23.890 %\n",
      "RelMdAE: 1.004\n",
      "RelMAE: 0.950\n",
      "R-squared: 0.149\n"
     ]
    }
   ],
   "source": [
    "print('------- ES Train MLR')\n",
    "error_measure(es_y_train,es_mlr_train,es_bm_train)\n",
    "r_squared(es_y_train,es_mlr_train,es_y_train)\n",
    "print('\\n------- ES Test MLR')\n",
    "error_measure(es_y_test,es_mlr_test,es_bm_test)\n",
    "r_squared(es_y_test,es_mlr_test,es_y_train)\n",
    "print('\\n------- VC Train MLR')\n",
    "error_measure(vc_y_train,vc_mlr_train,vc_bm_train)\n",
    "r_squared(vc_y_train,vc_mlr_train,vc_y_train)\n",
    "print('\\n------- VC Test MLR')\n",
    "error_measure(vc_y_test,vc_mlr_test,vc_bm_test)\n",
    "r_squared(vc_y_test,vc_mlr_test,vc_y_train)"
   ]
  },
  {
   "cell_type": "markdown",
   "id": "2dfe1f0c-10b9-4caf-9871-dba7a2cd649e",
   "metadata": {},
   "source": [
    "### 6.2. Improvement"
   ]
  },
  {
   "cell_type": "code",
   "execution_count": 34,
   "id": "ce7bdf99-9e17-49b3-9a03-27060b50f00a",
   "metadata": {},
   "outputs": [
    {
     "name": "stdout",
     "output_type": "stream",
     "text": [
      "                            OLS Regression Results                            \n",
      "==============================================================================\n",
      "Dep. Variable:          Weekly Demand   R-squared:                       0.675\n",
      "Model:                            OLS   Adj. R-squared:                  0.651\n",
      "Method:                 Least Squares   F-statistic:                     28.40\n",
      "Date:                Wed, 07 Jun 2023   Prob (F-statistic):           4.23e-10\n",
      "Time:                        13:14:07   Log-Likelihood:                -230.09\n",
      "No. Observations:                  45   AIC:                             468.2\n",
      "Df Residuals:                      41   BIC:                             475.4\n",
      "Df Model:                           3                                         \n",
      "Covariance Type:            nonrobust                                         \n",
      "==========================================================================================\n",
      "                             coef    std err          t      P>|t|      [0.025      0.975]\n",
      "------------------------------------------------------------------------------------------\n",
      "const                  -1.274e+04   1455.601     -8.754      0.000   -1.57e+04   -9802.902\n",
      "DATE                    7.873e-06   8.84e-07      8.910      0.000    6.09e-06    9.66e-06\n",
      "Glossary_Macchiato (R)    -7.2988      3.366     -2.168      0.036     -14.097      -0.500\n",
      "Payment_BANKING          -24.9028     44.990     -0.554      0.583    -115.762      65.956\n",
      "==============================================================================\n",
      "Omnibus:                        1.647   Durbin-Watson:                   1.431\n",
      "Prob(Omnibus):                  0.439   Jarque-Bera (JB):                1.228\n",
      "Skew:                           0.164   Prob(JB):                        0.541\n",
      "Kurtosis:                       2.260   Cond. No.                     3.82e+11\n",
      "==============================================================================\n",
      "\n",
      "Notes:\n",
      "[1] Standard Errors assume that the covariance matrix of the errors is correctly specified.\n",
      "[2] The condition number is large, 3.82e+11. This might indicate that there are\n",
      "strong multicollinearity or other numerical problems.\n",
      "------- ES Train MLR\n",
      "MdAE: 28.069\n",
      "MAE: 33.365\n",
      "sMdAPE: 12.600 %\n",
      "sMAPE: 15.730 %\n",
      "RelMdAE: 0.629\n",
      "RelMAE: 0.593\n",
      "R-squared: 0.675\n",
      "\n",
      "------- ES Test MLR\n",
      "MdAE: 47.389\n",
      "MAE: 83.005\n",
      "sMdAPE: 14.550 %\n",
      "sMAPE: 26.227 %\n",
      "RelMdAE: 0.535\n",
      "RelMAE: 0.951\n",
      "R-squared: -0.446\n"
     ]
    }
   ],
   "source": [
    "week_es = pd.read_excel('Weekly_Demand.xlsx',sheet_name='ES_Weekly')\n",
    "week_es_mlr = week_es[['Weekly Demand','DATE','Glossary_Macchiato (R)','Payment_BANKING']].copy()\n",
    "es_X_train_mlr, es_X_test_mlr, es_y_train_mlr, es_y_test_mlr = split(week_es_mlr)\n",
    "\n",
    "# ES\n",
    "es_mlr_train1, es_mlr_test1 = MLR(es_X_train_mlr, es_X_test_mlr, es_y_train_mlr, es_y_test_mlr)\n",
    "# ES\n",
    "OLS_analysis(es_X_train_mlr,es_y_train_mlr)\n",
    "\n",
    "print('------- ES Train MLR')\n",
    "error_measure(es_y_train_mlr,es_mlr_train1,es_bm_train)\n",
    "r_squared(es_y_train_mlr,es_mlr_train1,es_y_train)\n",
    "print('\\n------- ES Test MLR')\n",
    "error_measure(es_y_test_mlr,es_mlr_test1,es_bm_test)\n",
    "r_squared(es_y_test_mlr,es_mlr_test1,es_y_train)"
   ]
  },
  {
   "cell_type": "code",
   "execution_count": 35,
   "id": "71158ec1-0781-42c9-b12b-b3436ac9907a",
   "metadata": {},
   "outputs": [
    {
     "name": "stdout",
     "output_type": "stream",
     "text": [
      "                            OLS Regression Results                            \n",
      "==============================================================================\n",
      "Dep. Variable:          Weekly Demand   R-squared:                       0.673\n",
      "Model:                            OLS   Adj. R-squared:                  0.657\n",
      "Method:                 Least Squares   F-statistic:                     43.15\n",
      "Date:                Wed, 07 Jun 2023   Prob (F-statistic):           6.53e-11\n",
      "Time:                        13:14:08   Log-Likelihood:                -230.26\n",
      "No. Observations:                  45   AIC:                             466.5\n",
      "Df Residuals:                      42   BIC:                             471.9\n",
      "Df Model:                           2                                         \n",
      "Covariance Type:            nonrobust                                         \n",
      "==========================================================================================\n",
      "                             coef    std err          t      P>|t|      [0.025      0.975]\n",
      "------------------------------------------------------------------------------------------\n",
      "const                   -1.25e+04   1375.190     -9.088      0.000   -1.53e+04   -9722.329\n",
      "DATE                    7.724e-06   8.35e-07      9.255      0.000    6.04e-06    9.41e-06\n",
      "Glossary_Macchiato (R)    -6.9238      3.270     -2.117      0.040     -13.523      -0.324\n",
      "==============================================================================\n",
      "Omnibus:                        2.142   Durbin-Watson:                   1.410\n",
      "Prob(Omnibus):                  0.343   Jarque-Bera (JB):                1.438\n",
      "Skew:                           0.187   Prob(JB):                        0.487\n",
      "Kurtosis:                       2.208   Cond. No.                     3.64e+11\n",
      "==============================================================================\n",
      "\n",
      "Notes:\n",
      "[1] Standard Errors assume that the covariance matrix of the errors is correctly specified.\n",
      "[2] The condition number is large, 3.64e+11. This might indicate that there are\n",
      "strong multicollinearity or other numerical problems.\n",
      "------- ES Train MLR\n",
      "MdAE: 29.559\n",
      "MAE: 34.021\n",
      "sMdAPE: 12.336 %\n",
      "sMAPE: 15.981 %\n",
      "RelMdAE: 0.662\n",
      "RelMAE: 0.605\n",
      "R-squared: 0.673\n",
      "\n",
      "------- ES Test MLR\n",
      "MdAE: 50.824\n",
      "MAE: 84.803\n",
      "sMdAPE: 14.911 %\n",
      "sMAPE: 26.675 %\n",
      "RelMdAE: 0.573\n",
      "RelMAE: 0.972\n",
      "R-squared: -0.491\n"
     ]
    }
   ],
   "source": [
    "week_es = pd.read_excel('Weekly_Demand.xlsx',sheet_name='ES_Weekly')\n",
    "week_es_mlr = week_es[['Weekly Demand','DATE','Glossary_Macchiato (R)']].copy()\n",
    "es_X_train_mlr, es_X_test_mlr, es_y_train_mlr, es_y_test_mlr = split(week_es_mlr)\n",
    "\n",
    "# ES\n",
    "es_mlr_train2, es_mlr_test2 = MLR(es_X_train_mlr, es_X_test_mlr, es_y_train_mlr, es_y_test_mlr)\n",
    "# ES\n",
    "OLS_analysis(es_X_train_mlr,es_y_train_mlr)\n",
    "\n",
    "print('------- ES Train MLR')\n",
    "error_measure(es_y_train_mlr,es_mlr_train2,es_bm_train)\n",
    "r_squared(es_y_train_mlr,es_mlr_train2,es_y_train)\n",
    "print('\\n------- ES Test MLR')\n",
    "error_measure(es_y_test_mlr,es_mlr_test2,es_bm_test)\n",
    "r_squared(es_y_test_mlr,es_mlr_test2,es_y_train)"
   ]
  },
  {
   "cell_type": "markdown",
   "id": "d0394059-107e-41c7-b678-28aa1e8f159a",
   "metadata": {},
   "source": [
    "## 7. DT"
   ]
  },
  {
   "cell_type": "markdown",
   "id": "201f6676-8ec1-4b65-82f3-5e20325109cd",
   "metadata": {},
   "source": [
    "### 7.1. Origin"
   ]
  },
  {
   "cell_type": "code",
   "execution_count": 36,
   "id": "c46450f1-3ceb-46b1-a073-01825214ad4c",
   "metadata": {},
   "outputs": [
    {
     "name": "stdout",
     "output_type": "stream",
     "text": [
      "10\n",
      "44\n",
      "11\n",
      "41\n"
     ]
    }
   ],
   "source": [
    "# ES\n",
    "model_es_dt, es_dt_train, es_dt_test = DT(es_X_train, es_X_test, es_y_train, es_y_test)\n",
    "# VC\n",
    "model_vc_dt, vc_dt_train, vc_dt_test = DT(vc_X_train, vc_X_test, vc_y_train, vc_y_test)"
   ]
  },
  {
   "cell_type": "code",
   "execution_count": 37,
   "id": "2e01ab53-c66d-4188-b7a5-395d8f96d22d",
   "metadata": {},
   "outputs": [
    {
     "name": "stdout",
     "output_type": "stream",
     "text": [
      "------- ES Train DT\n",
      "MdAE: 0.000\n",
      "MAE: 0.000\n",
      "sMdAPE: 0.000 %\n",
      "sMAPE: 0.000 %\n",
      "RelMdAE: 0.000\n",
      "RelMAE: 0.000\n",
      "R-squared: 1.000\n",
      "\n",
      "------- ES Test DT\n",
      "MdAE: 38.000\n",
      "MAE: 49.000\n",
      "sMdAPE: 11.741 %\n",
      "sMAPE: 17.426 %\n",
      "RelMdAE: 0.429\n",
      "RelMAE: 0.561\n",
      "R-squared: 0.467\n",
      "\n",
      "------- VC Train DT\n",
      "MdAE: 0.000\n",
      "MAE: 0.000\n",
      "sMdAPE: 0.000 %\n",
      "sMAPE: 0.000 %\n",
      "RelMdAE: 0.000\n",
      "RelMAE: 0.000\n",
      "R-squared: 1.000\n",
      "\n",
      "------- VC Test DT\n",
      "MdAE: 36.000\n",
      "MAE: 47.700\n",
      "sMdAPE: 16.628 %\n",
      "sMAPE: 24.867 %\n",
      "RelMdAE: 0.867\n",
      "RelMAE: 0.996\n",
      "R-squared: -0.002\n"
     ]
    }
   ],
   "source": [
    "print('------- ES Train DT')\n",
    "error_measure(es_y_train,es_dt_train,es_bm_train)\n",
    "r_squared(es_y_train,es_dt_train,es_y_train)\n",
    "print('\\n------- ES Test DT')\n",
    "error_measure(es_y_test,es_dt_test,es_bm_test)\n",
    "r_squared(es_y_test,es_dt_test,es_y_train)\n",
    "print('\\n------- VC Train DT')\n",
    "error_measure(vc_y_train,vc_dt_train,vc_bm_train)\n",
    "r_squared(vc_y_train,vc_dt_train,vc_y_train)\n",
    "print('\\n------- VC Test DT')\n",
    "error_measure(vc_y_test,vc_dt_test,vc_bm_test)\n",
    "r_squared(vc_y_test,vc_dt_test,vc_y_train)"
   ]
  },
  {
   "cell_type": "markdown",
   "id": "aa98f9e1-347b-42f9-8923-5c8ef4b56ce2",
   "metadata": {},
   "source": [
    "### 7.2. Improvement"
   ]
  },
  {
   "cell_type": "code",
   "execution_count": 38,
   "id": "74295298-62f4-454a-80d4-8e08a7babc3e",
   "metadata": {},
   "outputs": [
    {
     "data": {
      "image/png": "[encoded data removed]",
      "text/plain": [
       "<Figure size 576x432 with 1 Axes>"
      ]
     },
     "metadata": {
      "needs_background": "light"
     },
     "output_type": "display_data"
    },
    {
     "data": {
      "image/png": "[encoded data removed]",
      "text/plain": [
       "<Figure size 576x432 with 1 Axes>"
      ]
     },
     "metadata": {
      "needs_background": "light"
     },
     "output_type": "display_data"
    }
   ],
   "source": [
    "def cost_prun(X_train,y_train,model):\n",
    "    ccp_path = model.cost_complexity_pruning_path(X_train,y_train)\n",
    "    ccp_alphas = ccp_path.ccp_alphas\n",
    "    impurities = ccp_path.impurities\n",
    "\n",
    "    # Plotting the ccp_alpha vs. impurities\n",
    "    fig, ax = plt.subplots(figsize=(8, 6))\n",
    "    ax.plot(ccp_alphas, impurities, marker='o', drawstyle=\"steps-post\")\n",
    "    ax.set_xlabel(\"Alpha\")\n",
    "    ax.set_ylabel(\"Sum of impurities\")\n",
    "    ax.set_title(\"Cost Complexity Pruning Path\")\n",
    "\n",
    "    # Show the plot\n",
    "    plt.show()\n",
    "# ES\n",
    "cost_prun(es_X_train,es_y_train,model_es_dt)\n",
    "# VC\n",
    "cost_prun(vc_X_train,vc_y_train,model_vc_dt)"
   ]
  },
  {
   "cell_type": "code",
   "execution_count": 39,
   "id": "7e42ffc9-bcdc-4c73-9c15-5e3b4069fb35",
   "metadata": {},
   "outputs": [],
   "source": [
    "from sklearn.tree import DecisionTreeRegressor, plot_tree\n",
    "\n",
    "def DT_alpha(X_train,X_test,y_train, y_test,ccp_alpha):\n",
    "    # Model fitting\n",
    "    model = DecisionTreeRegressor(criterion='squared_error',\n",
    "                                  splitter='best', \n",
    "                                  max_depth=None,\n",
    "                                  min_samples_split=2,\n",
    "                                  min_samples_leaf=1,\n",
    "                                  max_features=None,\n",
    "                                  random_state=42,\n",
    "                                  max_leaf_nodes=None,\n",
    "                                  ccp_alpha=ccp_alpha).fit(X_train, y_train)\n",
    "    # print the depth of the decision tree.\n",
    "    print(model.get_depth())\n",
    "    # print the number of leaves of the decision tree\n",
    "    print(model.get_n_leaves())\n",
    "    \n",
    "    # Plot the decision path\n",
    "    fig, ax = plt.subplots(figsize=(12, 8))\n",
    "    plot_tree(model, feature_names=model.feature_names_in_)\n",
    "    # Show the plot\n",
    "    plt.show()\n",
    "\n",
    "    # Generate forecasts in training part\n",
    "    y_pred_train = model.predict(X_train)\n",
    "    \n",
    "    # Generate forecasts in testing part\n",
    "    y_pred_test = model.predict(X_test)\n",
    "    return y_pred_train, y_pred_test"
   ]
  },
  {
   "cell_type": "raw",
   "id": "4e2e3778-b008-4ae3-a2c5-4e518ab51db7",
   "metadata": {},
   "source": [
    "# ES\n",
    "es_dt_train_0, es_dt_test_0 = DT_alpha(es_X_train, es_X_test, es_y_train, es_y_test,0)\n",
    "# RSS of training part\n",
    "RSS(es_y_train,es_dt_train_0)\n",
    "# RSS of testing part\n",
    "RSS(es_y_test,es_dt_test_0)"
   ]
  },
  {
   "cell_type": "code",
   "execution_count": 40,
   "id": "c54b42b5-b804-4683-b2b8-381e3e6e67fe",
   "metadata": {},
   "outputs": [
    {
     "name": "stdout",
     "output_type": "stream",
     "text": [
      "2\n",
      "3\n"
     ]
    },
    {
     "data": {
      "image/png": "[encoded data removed]",
      "text/plain": [
       "<Figure size 864x576 with 1 Axes>"
      ]
     },
     "metadata": {
      "needs_background": "light"
     },
     "output_type": "display_data"
    },
    {
     "name": "stdout",
     "output_type": "stream",
     "text": [
      "Residual : 64276.394\n",
      "Residual : 94340.918\n",
      "------- ES Train DT\n",
      "MdAE: 24.966\n",
      "MAE: 28.942\n",
      "sMdAPE: 10.825 %\n",
      "sMAPE: 13.357 %\n",
      "RelMdAE: 0.559\n",
      "RelMAE: 0.515\n",
      "R-squared: 0.713\n",
      "\n",
      "------- ES Test DT\n",
      "MdAE: 38.000\n",
      "MAE: 48.850\n",
      "sMdAPE: 11.806 %\n",
      "sMAPE: 17.393 %\n",
      "RelMdAE: 0.429\n",
      "RelMAE: 0.560\n",
      "R-squared: 0.481\n"
     ]
    }
   ],
   "source": [
    "# ES\n",
    "es_dt_train_500, es_dt_test_500 = DT_alpha(es_X_train, es_X_test, es_y_train, es_y_test,500)\n",
    "# RSS of training part\n",
    "RSS(es_y_train,es_dt_train_500)\n",
    "# RSS of testing part\n",
    "RSS(es_y_test,es_dt_test_500)\n",
    "print('------- ES Train DT')\n",
    "error_measure(es_y_train,es_dt_train_500,es_bm_train)\n",
    "r_squared(es_y_train,es_dt_train_500,es_y_train)\n",
    "print('\\n------- ES Test DT')\n",
    "error_measure(es_y_test,es_dt_test_500,es_bm_test)\n",
    "r_squared(es_y_test,es_dt_test_500,es_y_train)"
   ]
  },
  {
   "cell_type": "raw",
   "id": "72a0c17f-5d64-43d0-bcc9-66d47318dd62",
   "metadata": {},
   "source": [
    "# ES\n",
    "es_dt_train_1000, es_dt_test_1000 = DT_alpha(es_X_train, es_X_test, es_y_train, es_y_test,1000)\n",
    "# RSS of training part\n",
    "RSS(es_y_train,es_dt_train_1000)\n",
    "# RSS of testing part\n",
    "RSS(es_y_test,es_dt_test_1000)"
   ]
  },
  {
   "cell_type": "raw",
   "id": "5e488567-3eed-411d-8476-bc7a042a6487",
   "metadata": {},
   "source": [
    "# ES\n",
    "es_dt_train_3000, es_dt_test_3000 = DT_alpha(es_X_train, es_X_test, es_y_train, es_y_test,3000)\n",
    "# RSS of training part\n",
    "RSS(es_y_train,es_dt_train_3000)\n",
    "# RSS of testing part\n",
    "RSS(es_y_test,es_dt_test_3000)"
   ]
  },
  {
   "cell_type": "raw",
   "id": "b302707c-d07e-4eb4-897f-d27984213804",
   "metadata": {},
   "source": [
    "# VC\n",
    "vc_dt_train_0, vc_dt_test_0 = DT_alpha(vc_X_train, vc_X_test, vc_y_train, vc_y_test,0)\n",
    "# RSS of training part\n",
    "RSS(vc_y_train,vc_dt_train_0)\n",
    "# RSS of testing part\n",
    "RSS(vc_y_test,vc_dt_test_0)"
   ]
  },
  {
   "cell_type": "raw",
   "id": "b124d9d1-8d0f-462f-b062-3ae1cac46c97",
   "metadata": {},
   "source": [
    "# VC\n",
    "vc_dt_train_50, vc_dt_test_50 = DT_alpha(vc_X_train, vc_X_test, vc_y_train, vc_y_test,50)\n",
    "# RSS of training part\n",
    "RSS(vc_y_train,vc_dt_train_50)\n",
    "# RSS of testing part\n",
    "RSS(vc_y_test,vc_dt_test_50)"
   ]
  },
  {
   "cell_type": "raw",
   "id": "28dca1fc-64cb-4ae4-925f-c96b16264cf9",
   "metadata": {},
   "source": [
    "# VC\n",
    "vc_dt_train_100, vc_dt_test_100 = DT_alpha(vc_X_train, vc_X_test, vc_y_train, vc_y_test,100)\n",
    "# RSS of training part\n",
    "RSS(vc_y_train,vc_dt_train_100)\n",
    "# RSS of testing part\n",
    "RSS(vc_y_test,vc_dt_test_100)"
   ]
  },
  {
   "cell_type": "raw",
   "id": "8f6195b9-9fc5-468e-9c31-0bee926cd46e",
   "metadata": {},
   "source": [
    "# VC\n",
    "vc_dt_train_150, vc_dt_test_150 = DT_alpha(vc_X_train, vc_X_test, vc_y_train, vc_y_test,150)\n",
    "# RSS of training part\n",
    "RSS(vc_y_train,vc_dt_train_150)\n",
    "# RSS of testing part\n",
    "RSS(vc_y_test,vc_dt_test_150)"
   ]
  },
  {
   "cell_type": "code",
   "execution_count": 41,
   "id": "a845d932-e600-4dbe-8759-81dcae9def28",
   "metadata": {},
   "outputs": [
    {
     "name": "stdout",
     "output_type": "stream",
     "text": [
      "2\n",
      "3\n"
     ]
    },
    {
     "data": {
      "image/png": "[encoded data removed]",
      "text/plain": [
       "<Figure size 864x576 with 1 Axes>"
      ]
     },
     "metadata": {
      "needs_background": "light"
     },
     "output_type": "display_data"
    },
    {
     "name": "stdout",
     "output_type": "stream",
     "text": [
      "Residual : 49264.117\n",
      "Residual : 76088.247\n",
      "\n",
      "------- VC Train DT\n",
      "MdAE: 20.485\n",
      "MAE: 25.294\n",
      "sMdAPE: 8.726 %\n",
      "sMAPE: 12.076 %\n",
      "RelMdAE: 1.049\n",
      "RelMAE: 0.859\n",
      "R-squared: 0.382\n",
      "\n",
      "------- VC Test DT\n",
      "MdAE: 41.500\n",
      "MAE: 47.802\n",
      "sMdAPE: 18.377 %\n",
      "sMAPE: 24.700 %\n",
      "RelMdAE: 1.000\n",
      "RelMAE: 0.998\n",
      "R-squared: 0.006\n"
     ]
    }
   ],
   "source": [
    "# VC\n",
    "vc_dt_train_300, vc_dt_test_300 = DT_alpha(vc_X_train, vc_X_test, vc_y_train, vc_y_test,300)\n",
    "# RSS of training part\n",
    "RSS(vc_y_train,vc_dt_train_300)\n",
    "# RSS of testing part\n",
    "RSS(vc_y_test,vc_dt_test_300)\n",
    "print('\\n------- VC Train DT')\n",
    "error_measure(vc_y_train,vc_dt_train_300,vc_bm_train)\n",
    "r_squared(vc_y_train,vc_dt_train_300,vc_y_train)\n",
    "print('\\n------- VC Test DT')\n",
    "error_measure(vc_y_test,vc_dt_test_300,vc_bm_test)\n",
    "r_squared(vc_y_test,vc_dt_test_300,vc_y_train)"
   ]
  },
  {
   "cell_type": "raw",
   "id": "98f6d9e2-5141-48ba-bbd3-5b1945723d64",
   "metadata": {},
   "source": [
    "# VC\n",
    "vc_dt_train_300, vc_dt_test_300 = DT_alpha(vc_X_train, vc_X_test, vc_y_train, vc_y_test,350)\n",
    "# RSS of training part\n",
    "RSS(vc_y_train,vc_dt_train_300)\n",
    "# RSS of testing part\n",
    "RSS(vc_y_test,vc_dt_test_300)"
   ]
  },
  {
   "cell_type": "markdown",
   "id": "41b927e7-ba7d-4f00-bf87-6303863d10a1",
   "metadata": {},
   "source": [
    "## 8. RF"
   ]
  },
  {
   "cell_type": "markdown",
   "id": "afa07d37-0125-4c94-aa44-27fa3228d90c",
   "metadata": {},
   "source": [
    "### 8.1. Origin"
   ]
  },
  {
   "cell_type": "code",
   "execution_count": 42,
   "id": "54d66ccd-ea85-4051-b8c0-68db7e83c968",
   "metadata": {},
   "outputs": [],
   "source": [
    "# ES\n",
    "model_es_rf, es_rf_train, es_rf_test = RF(es_X_train, es_X_test, es_y_train, es_y_test)\n",
    "# VC\n",
    "model_vc_rf, vc_rf_train, vc_rf_test = RF(vc_X_train, vc_X_test, vc_y_train, vc_y_test)"
   ]
  },
  {
   "cell_type": "code",
   "execution_count": 43,
   "id": "cd78b275-a0d9-4dd5-976b-61bffb027fdd",
   "metadata": {},
   "outputs": [
    {
     "name": "stdout",
     "output_type": "stream",
     "text": [
      "------- ES Train RF\n",
      "MdAE: 10.660\n",
      "MAE: 13.155\n",
      "sMdAPE: 4.846 %\n",
      "sMAPE: 6.349 %\n",
      "RelMdAE: 0.239\n",
      "RelMAE: 0.234\n",
      "R-squared: 0.945\n",
      "\n",
      "------- ES Test RF\n",
      "MdAE: 36.345\n",
      "MAE: 56.751\n",
      "sMdAPE: 12.065 %\n",
      "sMAPE: 20.007 %\n",
      "RelMdAE: 0.410\n",
      "RelMAE: 0.650\n",
      "R-squared: 0.436\n",
      "\n",
      "------- VC Train RF\n",
      "MdAE: 9.160\n",
      "MAE: 11.740\n",
      "sMdAPE: 4.074 %\n",
      "sMAPE: 5.891 %\n",
      "RelMdAE: 0.469\n",
      "RelMAE: 0.399\n",
      "R-squared: 0.868\n",
      "\n",
      "------- VC Test RF\n",
      "MdAE: 46.070\n",
      "MAE: 50.206\n",
      "sMdAPE: 21.879 %\n",
      "sMAPE: 25.739 %\n",
      "RelMdAE: 1.110\n",
      "RelMAE: 1.048\n",
      "R-squared: -0.089\n"
     ]
    }
   ],
   "source": [
    "print('------- ES Train RF')\n",
    "error_measure(es_y_train,es_rf_train,es_bm_train)\n",
    "r_squared(es_y_train,es_rf_train,es_y_train)\n",
    "print('\\n------- ES Test RF')\n",
    "error_measure(es_y_test,es_rf_test,es_bm_test)\n",
    "r_squared(es_y_test,es_rf_test,es_y_train)\n",
    "print('\\n------- VC Train RF')\n",
    "error_measure(vc_y_train,vc_rf_train,vc_bm_train)\n",
    "r_squared(vc_y_train,vc_rf_train,vc_y_train)\n",
    "print('\\n------- VC Test RF')\n",
    "error_measure(vc_y_test,vc_rf_test,vc_bm_test)\n",
    "r_squared(vc_y_test,vc_rf_test,vc_y_train)"
   ]
  },
  {
   "cell_type": "markdown",
   "id": "364a9423-a85a-4217-b6e8-3ac9934bd578",
   "metadata": {},
   "source": [
    "### 8.2. Improvement"
   ]
  },
  {
   "cell_type": "code",
   "execution_count": 44,
   "id": "9484e1c5-f1e9-40b7-8e73-7e1fa05fdbbe",
   "metadata": {},
   "outputs": [],
   "source": [
    "from sklearn.ensemble import RandomForestRegressor\n",
    "\n",
    "def RF_alpha(X_train,X_test,y_train, y_test,ccp_alpha):\n",
    "    # Model fitting\n",
    "    model = RandomForestRegressor(n_estimators=100,\n",
    "                                  max_depth=None,\n",
    "                                  min_samples_split=2,\n",
    "                                  min_samples_leaf=1,\n",
    "                                  max_features=None,\n",
    "                                  max_leaf_nodes=None,\n",
    "                                  bootstrap=True,\n",
    "                                  random_state=42,\n",
    "                                  max_samples=None,\n",
    "                                  ccp_alpha=ccp_alpha).fit(X_train, y_train)\n",
    "\n",
    "    # Generate forecasts in training part\n",
    "    y_pred_train = model.predict(X_train)\n",
    "    \n",
    "    # Generate forecasts in testing part\n",
    "    y_pred_test = model.predict(X_test)\n",
    "    return y_pred_train, y_pred_test"
   ]
  },
  {
   "cell_type": "code",
   "execution_count": 45,
   "id": "6d3dc596-cc84-40b7-a2bd-97bd5d1ae475",
   "metadata": {},
   "outputs": [
    {
     "name": "stdout",
     "output_type": "stream",
     "text": [
      "------- ES Train DT\n",
      "MdAE: 28.636\n",
      "MAE: 28.541\n",
      "sMdAPE: 11.280 %\n",
      "sMAPE: 13.186 %\n",
      "RelMdAE: 0.642\n",
      "RelMAE: 0.508\n",
      "R-squared: 0.767\n",
      "\n",
      "------- ES Test DT\n",
      "MdAE: 39.959\n",
      "MAE: 52.527\n",
      "sMdAPE: 12.533 %\n",
      "sMAPE: 18.676 %\n",
      "RelMdAE: 0.451\n",
      "RelMAE: 0.602\n",
      "R-squared: 0.527\n"
     ]
    }
   ],
   "source": [
    "# ES\n",
    "es_rf_train_500, es_rf_test_500 = RF_alpha(es_X_train, es_X_test, es_y_train, es_y_test,500)\n",
    "print('------- ES Train DT')\n",
    "error_measure(es_y_train,es_rf_train_500,es_bm_train)\n",
    "r_squared(es_y_train,es_rf_train_500,es_y_train)\n",
    "print('\\n------- ES Test DT')\n",
    "error_measure(es_y_test,es_rf_test_500,es_bm_test)\n",
    "r_squared(es_y_test,es_rf_test_500,es_y_train)"
   ]
  },
  {
   "cell_type": "code",
   "execution_count": 46,
   "id": "dbf8adde-24fb-474f-b5c5-69c5f045e65a",
   "metadata": {},
   "outputs": [
    {
     "name": "stdout",
     "output_type": "stream",
     "text": [
      "\n",
      "------- VC Train DT\n",
      "MdAE: 18.559\n",
      "MAE: 24.335\n",
      "sMdAPE: 7.873 %\n",
      "sMAPE: 11.514 %\n",
      "RelMdAE: 0.950\n",
      "RelMAE: 0.827\n",
      "R-squared: 0.460\n",
      "\n",
      "------- VC Test DT\n",
      "MdAE: 42.774\n",
      "MAE: 48.395\n",
      "sMdAPE: 19.843 %\n",
      "sMAPE: 24.957 %\n",
      "RelMdAE: 1.031\n",
      "RelMAE: 1.010\n",
      "R-squared: -0.016\n"
     ]
    }
   ],
   "source": [
    "# VC\n",
    "vc_rf_train_300, vc_rf_test_300 = RF_alpha(vc_X_train, vc_X_test, vc_y_train, vc_y_test,300)\n",
    "print('\\n------- VC Train DT')\n",
    "error_measure(vc_y_train,vc_rf_train_300,vc_bm_train)\n",
    "r_squared(vc_y_train,vc_rf_train_300,vc_y_train)\n",
    "print('\\n------- VC Test DT')\n",
    "error_measure(vc_y_test,vc_rf_test_300,vc_bm_test)\n",
    "r_squared(vc_y_test,vc_rf_test_300,vc_y_train)"
   ]
  },
  {
   "cell_type": "markdown",
   "id": "110f1da9-7385-49ed-b0e3-71dc8d1a588f",
   "metadata": {},
   "source": [
    "## 9. Combine (SES + ARIMA + DT)"
   ]
  },
  {
   "cell_type": "code",
   "execution_count": 57,
   "id": "ed878b7b-1794-440b-aa67-ad2ed8e53e15",
   "metadata": {},
   "outputs": [],
   "source": [
    "combine_y_train = (es_ses_train \n",
    "                   + es_arima_train1\n",
    "                   + es_ls_train\n",
    "                   + es_mlr_train2\n",
    "                   + es_dt_train_500\n",
    "                   + es_rf_train_500\n",
    "                  )/6\n",
    "combine_y_test = (es_ses_test\n",
    "                  + es_arima_test1\n",
    "                  + es_ls_test\n",
    "                  + es_mlr_test2\n",
    "                  + es_dt_test_500\n",
    "                  + es_rf_test_500\n",
    "                 )/6"
   ]
  },
  {
   "cell_type": "code",
   "execution_count": 58,
   "id": "dd693aba-f062-48c0-8f0d-3450594fba9e",
   "metadata": {},
   "outputs": [
    {
     "name": "stdout",
     "output_type": "stream",
     "text": [
      "------- ES Train Combine\n",
      "MdAE: 25.957\n",
      "MAE: 30.684\n",
      "sMdAPE: 12.573 %\n",
      "sMAPE: 14.252 %\n",
      "RelMdAE: 0.582\n",
      "RelMAE: 0.546\n",
      "\n",
      "------- ES Test Combine\n",
      "MdAE: 36.527\n",
      "MAE: 55.575\n",
      "sMdAPE: 11.544 %\n",
      "sMAPE: 19.298 %\n",
      "RelMdAE: 0.412\n",
      "RelMAE: 0.637\n"
     ]
    }
   ],
   "source": [
    "print('------- ES Train Combine')\n",
    "error_measure(es_y_train,combine_y_train,es_bm_train)\n",
    "print('\\n------- ES Test Combine')\n",
    "error_measure(es_y_test,combine_y_test,es_bm_test)"
   ]
  },
  {
   "cell_type": "markdown",
   "id": "617b006d-cbf0-4be0-9157-e7e8c7c3e73d",
   "metadata": {},
   "source": [
    "## 10. Visualization"
   ]
  },
  {
   "cell_type": "code",
   "execution_count": 91,
   "id": "0cb90c3f-abcd-41f8-b83f-88e53686f54f",
   "metadata": {},
   "outputs": [
    {
     "data": {
      "image/png": "[encoded data removed]",
      "text/plain": [
       "<Figure size 1440x504 with 1 Axes>"
      ]
     },
     "metadata": {
      "needs_background": "light"
     },
     "output_type": "display_data"
    }
   ],
   "source": [
    "# Plot actual vs predicted demand in the training part\n",
    "plt.figure(figsize=(20,7))\n",
    "plt.subplot(121)\n",
    "plt.plot(es_X_test.index, es_y_test, label='Actual Demand', linewidth=2.5)\n",
    "#plt.plot(X_test.index, y_test, label='Testing Demand')\n",
    "plt.plot(es_y_test.index, es_ses_test, label='SES')\n",
    "plt.plot(es_y_test.index, es_arima_test1, label='ARIMA')\n",
    "plt.plot(es_y_test.index, es_ls_test, label='LS')\n",
    "plt.plot(es_y_test.index, es_mlr_test2, label='MLR')\n",
    "plt.plot(es_y_test.index, es_dt_test_500, label='DT')\n",
    "plt.plot(es_y_test.index, es_rf_test_500, label='RF')\n",
    "plt.axhline(y=week_es['Weekly Demand'].mean(), color='red', linestyle='--', label='Baseline')\n",
    "plt.ylim(bottom=0)\n",
    "plt.xticks(es_X_test.index, es_X_test.index.astype(int))\n",
    "plt.xlabel('Week No.')\n",
    "plt.ylabel('Weekly Demand (cups)')\n",
    "plt.title('Testing Prediction of Espresso Methods', fontsize = 15)\n",
    "plt.legend(title='Methods',mode=None)\n",
    "plt.show()"
   ]
  },
  {
   "cell_type": "code",
   "execution_count": 94,
   "id": "a9c4c946-7eb6-43c5-b8ab-d1ed054b8f83",
   "metadata": {},
   "outputs": [
    {
     "data": {
      "image/png": "[encoded data removed]",
      "text/plain": [
       "<Figure size 1440x504 with 1 Axes>"
      ]
     },
     "metadata": {
      "needs_background": "light"
     },
     "output_type": "display_data"
    }
   ],
   "source": [
    "# Plot actual vs predicted demand in the training part\n",
    "plt.figure(figsize=(20,7))\n",
    "plt.subplot(121)\n",
    "plt.plot(vc_X_test.index, vc_y_test, label='Actual Demand', linewidth=2.5)\n",
    "#plt.plot(X_test.index, y_test, label='Testing Demand')\n",
    "plt.plot(vc_y_test.index, vc_ses_test, label='SES')\n",
    "plt.plot(vc_y_test.index, vc_arima_test, label='ARIMA')\n",
    "plt.plot(vc_y_test.index, vc_ls_test, label='LS')\n",
    "plt.plot(vc_y_test.index, vc_mlr_test, label='MLR')\n",
    "plt.plot(vc_y_test.index, vc_dt_test_300, label='DT')\n",
    "plt.plot(vc_y_test.index, vc_rf_test_300, label='RF')\n",
    "plt.axhline(y=week_vc['Weekly Demand'].mean(), color='red', linestyle='--', label='Baseline')\n",
    "plt.ylim(bottom=0)\n",
    "plt.xticks(vc_X_test.index, vc_X_test.index.astype(int))\n",
    "plt.xlabel('Week No.')\n",
    "plt.ylabel('Weekly Demand (cups)')\n",
    "plt.title('Testing Prediction of Vietnamese Coffee Methods', fontsize = 15)\n",
    "plt.legend(title='Methods',mode=None)\n",
    "plt.show()"
   ]
  }
 ],
 "metadata": {
  "kernelspec": {
   "display_name": "Python 3 (ipykernel)",
   "language": "python",
   "name": "python3"
  },
  "language_info": {
   "codemirror_mode": {
    "name": "ipython",
    "version": 3
   },
   "file_extension": ".py",
   "mimetype": "text/x-python",
   "name": "python",
   "nbconvert_exporter": "python",
   "pygments_lexer": "ipython3",
   "version": "3.9.7"
  }
 },
 "nbformat": 4,
 "nbformat_minor": 5
}
